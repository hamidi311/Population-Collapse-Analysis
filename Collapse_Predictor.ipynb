{
  "cells": [
    {
      "cell_type": "markdown",
      "metadata": {
        "id": "view-in-github",
        "colab_type": "text"
      },
      "source": [
        "<a href=\"https://colab.research.google.com/github/hamidi311/Population-Collapse-Analysis/blob/main/Collapse_Predictor.ipynb\" target=\"_parent\"><img src=\"https://colab.research.google.com/assets/colab-badge.svg\" alt=\"Open In Colab\"/></a>"
      ]
    },
    {
      "cell_type": "code",
      "execution_count": 3,
      "metadata": {
        "colab": {
          "base_uri": "https://localhost:8080/"
        },
        "id": "2YiJM1DgNlhL",
        "outputId": "b34e9f7c-de82-49ca-9353-f3d0c5dd7b34"
      },
      "outputs": [
        {
          "output_type": "stream",
          "name": "stdout",
          "text": [
            "Evaluation Report:\n",
            "                       precision    recall  f1-score   support\n",
            "\n",
            "At Risk of collapsing       1.00      1.00      1.00       187\n",
            "           Collapsing       1.00      1.00      1.00       134\n",
            "              Growing       1.00      1.00      1.00       351\n",
            "\n",
            "             accuracy                           1.00       672\n",
            "            macro avg       1.00      1.00      1.00       672\n",
            "         weighted avg       1.00      1.00      1.00       672\n",
            "\n",
            "\n",
            "📍 Population Collapse Risk Predictor (ML-powered)\n",
            "Enter Country Name: algeria \n",
            "Enter Fertility Rate: 2\n",
            "Enter Population Over 65 (%): 2\n",
            "\n",
            "🔍 Prediction for algeria : At Risk of collapsing\n"
          ]
        }
      ],
      "source": [
        "import pandas as pd\n",
        "from sklearn.model_selection import train_test_split\n",
        "from sklearn.ensemble import RandomForestClassifier\n",
        "from sklearn.preprocessing import LabelEncoder\n",
        "from sklearn.metrics import classification_report\n",
        "\n",
        "# Load data\n",
        "url = \"https://raw.githubusercontent.com/hamidi311/Population-Collapse-Analysis/main/ML_model/predi_model_data%20(1).csv\"\n",
        "df = pd.read_csv(url)\n",
        "\n",
        "# Filter for recent years\n",
        "df = df[df['Year'] >= 2010]\n",
        "\n",
        "# Select key columns and drop missing values\n",
        "df = df[['Fertility Rate', 'Population Over 65', 'Birth Rate']].dropna().copy()\n",
        "\n",
        "# Use temporary logic only to generate labels for training\n",
        "def label_status(row):\n",
        "    if row['Fertility Rate'] < 2.1 and row['Population Over 65'] > 15:\n",
        "        return 'Collapsing'\n",
        "    elif row['Fertility Rate'] < 2.1 or row['Population Over 65'] > 15:\n",
        "        return 'At Risk of collapsing'\n",
        "    else:\n",
        "        return 'Growing'\n",
        "\n",
        "df['status'] = df.apply(label_status, axis=1)\n",
        "\n",
        "# Encode labels\n",
        "le = LabelEncoder()\n",
        "df['status_encoded'] = le.fit_transform(df['status'])\n",
        "\n",
        "# Define features (X) and labels (y)\n",
        "X = df[['Fertility Rate', 'Population Over 65']]\n",
        "y = df['status_encoded']\n",
        "\n",
        "# Split into train and test sets\n",
        "X_train, X_test, y_train, y_test = train_test_split(X, y, test_size=0.2, random_state=42)\n",
        "\n",
        "# Train model\n",
        "model = RandomForestClassifier(random_state=42)\n",
        "model.fit(X_train, y_train)\n",
        "\n",
        "# Evaluate model\n",
        "y_pred = model.predict(X_test)\n",
        "print(\"Evaluation Report:\")\n",
        "print(classification_report(y_test, y_pred, target_names=le.classes_))\n",
        "\n",
        "# Predict using ML only (no logic)\n",
        "def predict_status(fertility_rate, pop_over_65):\n",
        "    input_df = pd.DataFrame([[fertility_rate, pop_over_65]],\n",
        "                            columns=['Fertility Rate', 'Population Over 65'])\n",
        "    prediction_encoded = model.predict(input_df)[0]\n",
        "    prediction_label = le.inverse_transform([prediction_encoded])[0]\n",
        "    return prediction_label\n",
        "\n",
        "# Interactive CLI Prediction\n",
        "def interactive_prediction():\n",
        "    print(\"\\n📍 Population Collapse Risk Predictor (ML-powered)\")\n",
        "    country = input(\"Enter Country Name: \")\n",
        "    fertility_rate = float(input(\"Enter Fertility Rate: \"))\n",
        "    pop_over_65 = float(input(\"Enter Population Over 65 (%): \"))\n",
        "\n",
        "    prediction = predict_status(fertility_rate, pop_over_65)\n",
        "    print(f\"\\n🔍 Prediction for {country}: {prediction}\")\n",
        "\n",
        "# Run interactive prediction\n",
        "interactive_prediction()\n"
      ]
    }
  ],
  "metadata": {
    "colab": {
      "provenance": [],
      "authorship_tag": "ABX9TyMGdXiAxveK+iWnHDl2mQrr",
      "include_colab_link": true
    },
    "kernelspec": {
      "display_name": "Python 3",
      "name": "python3"
    },
    "language_info": {
      "name": "python"
    }
  },
  "nbformat": 4,
  "nbformat_minor": 0
}