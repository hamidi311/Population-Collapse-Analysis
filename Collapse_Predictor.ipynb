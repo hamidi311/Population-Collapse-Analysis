{
  "cells": [
    {
      "cell_type": "markdown",
      "metadata": {
        "id": "view-in-github",
        "colab_type": "text"
      },
      "source": [
        "<a href=\"https://colab.research.google.com/github/hamidi311/Population-Collapse-Analysis/blob/main/Collapse_Predictor.ipynb\" target=\"_parent\"><img src=\"https://colab.research.google.com/assets/colab-badge.svg\" alt=\"Open In Colab\"/></a>"
      ]
    },
    {
      "cell_type": "code",
      "source": [
        "import pandas as pd\n",
        "from sklearn.model_selection import train_test_split\n",
        "from sklearn.ensemble import RandomForestClassifier\n",
        "from sklearn.preprocessing import LabelEncoder\n",
        "from sklearn.metrics import classification_report\n",
        "\n",
        "# Load labeled data from GitHub\n",
        "url = \"https://raw.githubusercontent.com/hamidi311/Population-Collapse-Analysis/main/ML_model/labeled_population_data.csv\"\n",
        "df = pd.read_csv(url)\n",
        "\n",
        "# Filter recent years\n",
        "df = df[df['Year'] >= 2010]\n",
        "\n",
        "# Drop missing values from key columns\n",
        "df = df[['Fertility Rate', 'Population Over 65', 'Status']].dropna().copy()\n",
        "\n",
        "# Encode the labeled status (e.g. 'Collapsing') into numbers\n",
        "le = LabelEncoder()\n",
        "df['status_encoded'] = le.fit_transform(df['Status'])\n",
        "\n",
        "# Features and labels\n",
        "X = df[['Fertility Rate', 'Population Over 65']]\n",
        "y = df['status_encoded']\n",
        "\n",
        "# Split data\n",
        "X_train, X_test, y_train, y_test = train_test_split(X, y, test_size=0.2, random_state=42)\n",
        "\n",
        "# Train ML model\n",
        "model = RandomForestClassifier(random_state=42)\n",
        "model.fit(X_train, y_train)\n",
        "\n",
        "# Evaluate model\n",
        "y_pred = model.predict(X_test)\n",
        "print(\"Evaluation Report:\")\n",
        "print(classification_report(y_test, y_pred, target_names=le.classes_))\n",
        "\n",
        "# Prediction function using trained model\n",
        "def predict_status(fertility_rate, pop_over_65):\n",
        "    input_df = pd.DataFrame([[fertility_rate, pop_over_65]],\n",
        "                            columns=['Fertility Rate', 'Population Over 65'])\n",
        "    prediction_encoded = model.predict(input_df)[0]\n",
        "    prediction_label = le.inverse_transform([prediction_encoded])[0]\n",
        "    return prediction_label\n",
        "\n",
        "# Interactive input\n",
        "def interactive_prediction():\n",
        "    print(\"\\n📍 Population Collapse Risk Predictor (ML-powered)\")\n",
        "    country = input(\"Enter Country Name: \")\n",
        "    fertility_rate = float(input(\"Enter Fertility Rate: \"))\n",
        "    pop_over_65 = float(input(\"Enter Population Over 65 (%): \"))\n",
        "\n",
        "    prediction = predict_status(fertility_rate, pop_over_65)\n",
        "    print(f\"\\n🔍 Prediction for {country}: {prediction}\")\n",
        "\n",
        "# Run interactive CLI\n",
        "interactive_prediction()\n"
      ],
      "metadata": {
        "colab": {
          "base_uri": "https://localhost:8080/"
        },
        "id": "LHKRtVzSKIa9",
        "outputId": "8abbf9b0-9269-427f-fdf3-08ccacc67908"
      },
      "execution_count": 20,
      "outputs": [
        {
          "output_type": "stream",
          "name": "stdout",
          "text": [
            "Evaluation Report:\n",
            "                       precision    recall  f1-score   support\n",
            "\n",
            "At Risk of collapsing       1.00      1.00      1.00       187\n",
            "           Collapsing       1.00      1.00      1.00       134\n",
            "              Growing       1.00      1.00      1.00       351\n",
            "\n",
            "             accuracy                           1.00       672\n",
            "            macro avg       1.00      1.00      1.00       672\n",
            "         weighted avg       1.00      1.00      1.00       672\n",
            "\n",
            "\n",
            "📍 Population Collapse Risk Predictor (ML-powered)\n",
            "Enter Country Name: algeria \n",
            "Enter Fertility Rate: 1\n",
            "Enter Population Over 65 (%): 1\n",
            "\n",
            "🔍 Prediction for algeria : At Risk of collapsing\n"
          ]
        }
      ]
    },
    {
      "cell_type": "code",
      "source": [
        "import pandas as pd\n",
        "\n",
        "# Load your CSV file (make sure it's in your working directory or use the full path)\n",
        "df = pd.read_csv(\"predi_model_data.csv\")  # Replace with your actual file name if different\n",
        "\n",
        "# Filter from 2010 onward\n",
        "df = df[df['Year'] >= 2010]\n",
        "\n",
        "# Drop missing values from important columns\n",
        "df = df[['Year', 'Country Name', 'Fertility Rate', 'Population Over 65']].dropna().copy()\n",
        "\n",
        "# Apply label logic\n",
        "def label_status(row):\n",
        "    if row['Fertility Rate'] < 2.1 and row['Population Over 65'] > 15:\n",
        "        return 'Collapsing'\n",
        "    elif row['Fertility Rate'] < 2.1 or row['Population Over 65'] > 15:\n",
        "        return 'At Risk of collapsing'\n",
        "    else:\n",
        "        return 'Growing'\n",
        "\n",
        "df['Status'] = df.apply(label_status, axis=1)\n",
        "\n",
        "# Save to a new CSV file\n",
        "df.to_csv(\"labeled_population_data.csv\", index=False)\n",
        "print(\"✅ Data labeled and saved as labeled_population_data.csv\")\n"
      ],
      "metadata": {
        "id": "9t6MGzz9I46Z",
        "outputId": "8d9c7bb4-e8ef-4612-b010-09ae3dfae23f",
        "colab": {
          "base_uri": "https://localhost:8080/"
        }
      },
      "execution_count": 19,
      "outputs": [
        {
          "output_type": "stream",
          "name": "stdout",
          "text": [
            "✅ Data labeled and saved as labeled_population_data.csv\n"
          ]
        }
      ]
    }
  ],
  "metadata": {
    "colab": {
      "provenance": [],
      "authorship_tag": "ABX9TyNUFpPauVxBUGG1+Ya7z2JA",
      "include_colab_link": true
    },
    "kernelspec": {
      "display_name": "Python 3",
      "name": "python3"
    },
    "language_info": {
      "name": "python"
    }
  },
  "nbformat": 4,
  "nbformat_minor": 0
}