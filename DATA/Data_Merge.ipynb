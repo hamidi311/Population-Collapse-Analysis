{
  "nbformat": 4,
  "nbformat_minor": 0,
  "metadata": {
    "colab": {
      "provenance": [],
      "authorship_tag": "ABX9TyP891obiMw2Dm0VIP/SZRpm",
      "include_colab_link": true
    },
    "kernelspec": {
      "name": "python3",
      "display_name": "Python 3"
    },
    "language_info": {
      "name": "python"
    }
  },
  "cells": [
    {
      "cell_type": "markdown",
      "metadata": {
        "id": "view-in-github",
        "colab_type": "text"
      },
      "source": [
        "<a href=\"https://colab.research.google.com/github/hamidi311/DATA-ANALYTICS/blob/main/Data_Merge.ipynb\" target=\"_parent\"><img src=\"https://colab.research.google.com/assets/colab-badge.svg\" alt=\"Open In Colab\"/></a>"
      ]
    },
    {
      "cell_type": "code",
      "source": [
        "import pandas as pd\n",
        "\n",
        "# Load the .xls file and save as .xlsx\n",
        "xls_file = \"fertility rate.xls\"\n",
        "df = pd.read_excel(xls_file, engine=\"xlrd\")\n",
        "df.to_excel(\"fertility_rate.xlsx\", index=False, engine=\"openpyxl\")\n",
        "\n",
        "xls_file = \"birth rate crude.xls\"\n",
        "df = pd.read_excel(xls_file, engine=\"xlrd\")\n",
        "df.to_excel(\"birth_rate_crude.xlsx\", index=False, engine=\"openpyxl\")\n",
        "\n",
        "xls_file = \"Population total.xls\"\n",
        "df = pd.read_excel(xls_file, engine=\"xlrd\")\n",
        "df.to_excel(\"Population_total.xlsx\", index=False, engine=\"openpyxl\")\n",
        "\n",
        "xls_file = \"Population growth %.xls\"\n",
        "df = pd.read_excel(xls_file, engine=\"xlrd\")\n",
        "df.to_excel(\"Population_growth_%.xlsx\", index=False, engine=\"openpyxl\")\n",
        "\n",
        "xls_file = \"population age over 65%.xls\"\n",
        "df = pd.read_excel(xls_file, engine=\"xlrd\")\n",
        "df.to_excel(\"population_age_over_65%.xlsx\", index=False, engine=\"openpyxl\")\n",
        "\n",
        "xls_file = \"death rate crude.xls\"\n",
        "df = pd.read_excel(xls_file, engine=\"xlrd\")\n",
        "df.to_excel(\"death_rate_crude.xlsx\", index=False, engine=\"openpyxl\")\n",
        "\n",
        "xls_file = \"GDP per capita (current US$).xls\"\n",
        "df = pd.read_excel(xls_file, engine=\"xlrd\")\n",
        "df.to_excel(\"GDP_per_capita.xlsx\", index=False, engine=\"openpyxl\")\n",
        "\n",
        "xls_file = \"Net Migration.xls\"\n",
        "df = pd.read_excel(xls_file, engine=\"xlrd\")\n",
        "df.to_excel(\"Net_Migration.xlsx\", index=False, engine=\"openpyxl\")\n",
        "\n"
      ],
      "metadata": {
        "id": "Od7dCOEF8INo"
      },
      "execution_count": null,
      "outputs": []
    },
    {
      "cell_type": "code",
      "source": [
        "import pandas as pd\n",
        "\n",
        "# Load the datasets (Skip unnecessary rows)\n",
        "fertility_df = pd.read_excel(\"fertility rate.xls\", skiprows=3)\n",
        "birth_rate_df = pd.read_excel(\"birth rate crude.xls\", skiprows=3)\n",
        "Population_total_df = pd.read_excel(\"Population total.xls\", skiprows=3)\n",
        "population_growth_df = pd.read_excel(\"Population growth %.xls\", skiprows=3)\n",
        "population_age_over_65_df = pd.read_excel(\"population age over 65%.xls\", skiprows=3)\n",
        "death_rate_crude_df = pd.read_excel(\"death rate crude.xls\", skiprows=3)\n",
        "gdp_per_capita_df = pd.read_excel(\"GDP per capita (current US$).xls\", skiprows=3)\n",
        "net_migration_df = pd.read_excel(\"Net Migration.xls\", skiprows=3)\n",
        "\n",
        "# Drop irrelevant columns (keep only numeric data)\n",
        "fertility_df = fertility_df.drop(columns=[\"Indicator Name\", \"Indicator Code\"], errors=\"ignore\")\n",
        "birth_rate_df = birth_rate_df.drop(columns=[\"Indicator Name\", \"Indicator Code\"], errors=\"ignore\")\n",
        "Population_total_df = Population_total_df.drop(columns=[\"Indicator Name\", \"Indicator Code\"], errors=\"ignore\")\n",
        "population_growth_df = population_growth_df.drop(columns=[\"Indicator Name\", \"Indicator Code\"], errors=\"ignore\")\n",
        "population_age_over_65_df = population_age_over_65_df.drop(columns=[\"Indicator Name\", \"Indicator Code\"], errors=\"ignore\")\n",
        "death_rate_crude_df = death_rate_crude_df.drop(columns=[\"Indicator Name\", \"Indicator Code\"], errors=\"ignore\")\n",
        "gdp_per_capita_df = gdp_per_capita_df.drop(columns=[\"Indicator Name\", \"Indicator Code\"], errors=\"ignore\")\n",
        "net_migration_df = net_migration_df.drop(columns=[\"Indicator Name\", \"Indicator Code\"], errors=\"ignore\")\n",
        "\n",
        "# Reshape from wide to long format\n",
        "fertility_long = fertility_df.melt(id_vars=[\"Country Name\", \"Country Code\"], var_name=\"Year\", value_name=\"Fertility Rate\")\n",
        "birth_rate_long = birth_rate_df.melt(id_vars=[\"Country Name\", \"Country Code\"], var_name=\"Year\", value_name=\"Birth Rate\")\n",
        "Population_total_long = Population_total_df.melt(id_vars=[\"Country Name\", \"Country Code\"], var_name=\"Year\", value_name=\"Population Total\")\n",
        "population_growth_long = population_growth_df.melt(id_vars=[\"Country Name\", \"Country Code\"], var_name=\"Year\", value_name=\"Population Growth\")\n",
        "population_age_over_65_long = population_age_over_65_df.melt(id_vars=[\"Country Name\", \"Country Code\"], var_name=\"Year\", value_name=\"Population Over 65\")\n",
        "death_rate_crude_long = death_rate_crude_df.melt(id_vars=[\"Country Name\", \"Country Code\"], var_name=\"Year\", value_name=\"Death Rate\")\n",
        "gdp_per_capita_long = gdp_per_capita_df.melt(id_vars=[\"Country Name\", \"Country Code\"], var_name=\"Year\", value_name=\"GDP per Capita\")\n",
        "net_migration_long = net_migration_df.melt(id_vars=[\"Country Name\", \"Country Code\"], var_name=\"Year\", value_name=\"Net Migration\")\n",
        "\n",
        "# Ensure year is numeric\n",
        "fertility_long[\"Year\"] = pd.to_numeric(fertility_long[\"Year\"], errors=\"coerce\")\n",
        "birth_rate_long[\"Year\"] = pd.to_numeric(birth_rate_long[\"Year\"], errors=\"coerce\")\n",
        "Population_total_long[\"Year\"] = pd.to_numeric(Population_total_long[\"Year\"], errors=\"coerce\")\n",
        "population_growth_long[\"Year\"] = pd.to_numeric(population_growth_long[\"Year\"], errors=\"coerce\")\n",
        "population_age_over_65_long[\"Year\"] = pd.to_numeric(population_age_over_65_long[\"Year\"], errors=\"coerce\")\n",
        "death_rate_crude_long[\"Year\"] = pd.to_numeric(death_rate_crude_long[\"Year\"], errors=\"coerce\")\n",
        "gdp_per_capita_long[\"Year\"] = pd.to_numeric(gdp_per_capita_long[\"Year\"], errors=\"coerce\")\n",
        "net_migration_long[\"Year\"] = pd.to_numeric(net_migration_long[\"Year\"], errors=\"coerce\")\n",
        "\n",
        "# Merge data correctly\n",
        "merged_df = pd.merge(fertility_long, birth_rate_long, on=[\"Country Name\", \"Country Code\", \"Year\"], how=\"inner\")\n",
        "merged_df = pd.merge(merged_df, Population_total_long, on=[\"Country Name\", \"Country Code\", \"Year\"], how=\"inner\")\n",
        "merged_df = pd.merge(merged_df, population_growth_long, on=[\"Country Name\", \"Country Code\", \"Year\"], how=\"inner\")\n",
        "merged_df = pd.merge(merged_df, population_age_over_65_long, on=[\"Country Name\", \"Country Code\", \"Year\"], how=\"inner\")\n",
        "merged_df = pd.merge(merged_df, death_rate_crude_long, on=[\"Country Name\", \"Country Code\", \"Year\"], how=\"inner\")\n",
        "merged_df = pd.merge(merged_df, gdp_per_capita_long, on=[\"Country Name\", \"Country Code\", \"Year\"], how=\"inner\")\n",
        "merged_df = pd.merge(merged_df, net_migration_long, on=[\"Country Name\", \"Country Code\", \"Year\"], how=\"inner\")\n",
        "\n",
        "# Save the corrected merged file\n",
        "merged_df.to_excel(\"merged_data_fixed_last.xlsx\", index=False)\n",
        "\n",
        "print(\"Fixed merged data saved as 'merged_data_fixed_last.xlsx'\")\n"
      ],
      "metadata": {
        "id": "650Bi5tLBHfX",
        "colab": {
          "base_uri": "https://localhost:8080/"
        },
        "outputId": "391c2b39-9018-47ce-e697-8765fc1c19ed"
      },
      "execution_count": null,
      "outputs": [
        {
          "output_type": "stream",
          "name": "stdout",
          "text": [
            "Fixed merged data saved as 'merged_data_fixed_last.xlsx'\n"
          ]
        }
      ]
    }
  ]
}
